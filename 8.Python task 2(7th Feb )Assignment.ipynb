{
 "cells": [
  {
   "cell_type": "markdown",
   "id": "a9fd3b9f-8d44-4dfa-8c13-e51603a27c58",
   "metadata": {},
   "source": [
    "# Q1. You are writing code for a company. The requirement of the company is that you create a python function that will check whether the password entered by the user is correct or not. The function should take the password as input and return the string “Valid Password” if the entered password follows the below-given password guidelines else it should return “Invalid Password”.\n",
    "# Note: \n",
    "1. The Password should contain at least two uppercase letters and at least two lowercase letters.\n",
    "2. The Password should contain at least a number and three special characters.\n",
    "3. The length of the password should be 10 characters long."
   ]
  },
  {
   "cell_type": "markdown",
   "id": "6856515e-9ca9-4544-b389-921f3d93ff90",
   "metadata": {},
   "source": [
    "# Ans :"
   ]
  },
  {
   "cell_type": "code",
   "execution_count": 15,
   "id": "5ce6e5e3-5752-4ab3-824b-3c5ca85dfd46",
   "metadata": {},
   "outputs": [],
   "source": [
    "import re\n",
    "\n",
    "def check_password(password):\n",
    "    # prompt user for password\n",
    "    password = input(\"Enter your password: \")\n",
    "    # check if password is exactly 10 characters long\n",
    "    if len(password) != 10:\n",
    "        return \"Invalid Password\"\n",
    "    \n",
    "    # check if password has at least 2 uppercase letters and 2 lowercase letters\n",
    "    if not re.search(r'[A-Z].*[A-Z]', password) or not re.search(r'[a-z].*[a-z]', password):\n",
    "        return \"Invalid Password\"\n",
    "    \n",
    "    # check if password has at least 1 number and 3 special characters\n",
    "    if not re.search(r'\\d', password) or not re.search(r'[!@#$%^&*()-_+=]', password) or len(re.findall(r'[!@#$%^&*()-_+=]', password)) < 3:\n",
    "        return \"Invalid Password\"\n",
    "    \n",
    "    return \"Valid Password\"\n",
    "\n"
   ]
  },
  {
   "cell_type": "code",
   "execution_count": 16,
   "id": "2e3831e6-510c-4677-8169-6624cd120d66",
   "metadata": {},
   "outputs": [
    {
     "name": "stdin",
     "output_type": "stream",
     "text": [
      "Enter your password:  ASas1!@#12\n"
     ]
    },
    {
     "name": "stdout",
     "output_type": "stream",
     "text": [
      "Valid Password\n"
     ]
    }
   ],
   "source": [
    "# check if password is valid\n",
    "result = check_password(password)\n",
    "\n",
    "# print result\n",
    "print(result)"
   ]
  },
  {
   "cell_type": "code",
   "execution_count": 17,
   "id": "51860aa1-60d8-479e-9e74-ac92afd86a85",
   "metadata": {},
   "outputs": [
    {
     "name": "stdin",
     "output_type": "stream",
     "text": [
      "Enter your password:  dr563j123\n"
     ]
    },
    {
     "name": "stdout",
     "output_type": "stream",
     "text": [
      "Invalid Password\n"
     ]
    }
   ],
   "source": [
    "# check if password is valid\n",
    "result = check_password(password)\n",
    "\n",
    "# print result\n",
    "print(result)"
   ]
  },
  {
   "cell_type": "markdown",
   "id": "1d3b11ed-0eeb-48c7-ad01-6c12e43fb700",
   "metadata": {},
   "source": [
    "# Q2. Solve the below-given questions using at least one of the following:\n",
    "1. Lambda function\n",
    "2. Filter function\n",
    "3. Map function\n",
    "4. List Comprehension\n",
    "# *Check if the string starts with a particular letter.\n",
    "# *Check if the string is numeric.\n",
    "# *Sort a list of tuples having fruit names and their quantity. [(\"mango\",99),(\"orange\",80), (\"grapes\", 1000)-\n",
    "# *Find the squares of numbers from 1 to 10.\n",
    "# *Find the cube root of numbers from 1 to 10.\n",
    "# *Check if a given number is even.\n",
    "# *Filter odd numbers from the given list.\n",
    "[1,2,3,4,5,6,7,8,9,10]\n",
    "# *Sort a list of integers into positive and negative integers lists.\n",
    "[1,2,3,4,5,6,-1,-2,-3,-4,-5,0]"
   ]
  },
  {
   "cell_type": "markdown",
   "id": "2cdb7aa6-b754-4a45-9bb6-99969dd8daa0",
   "metadata": {},
   "source": [
    "# Ans :"
   ]
  },
  {
   "cell_type": "code",
   "execution_count": 18,
   "id": "45eaff54-ad54-4712-9ccd-605c0a8f48b5",
   "metadata": {},
   "outputs": [
    {
     "name": "stdout",
     "output_type": "stream",
     "text": [
      "['apple']\n"
     ]
    }
   ],
   "source": [
    "# 1.Check if the string starts with a particular letter:\n",
    "#   Using lambda function and list comprehension:\n",
    "strings = ['apple', 'banana', 'cherry', 'dates']\n",
    "\n",
    "result = [string for string in strings if string.startswith('a')]\n",
    "\n",
    "print(result)\n"
   ]
  },
  {
   "cell_type": "code",
   "execution_count": 19,
   "id": "6f6ee018-aada-4df9-bce8-7668746fa144",
   "metadata": {},
   "outputs": [
    {
     "name": "stdout",
     "output_type": "stream",
     "text": [
      "['123']\n"
     ]
    }
   ],
   "source": [
    "# 2.Check if the string is numeric:\n",
    "#   Using lambda function and isnumeric method:\n",
    "strings = ['123', '1.23', '-10', '5+5j', 'abc']\n",
    "\n",
    "result = list(filter(lambda s: s.isnumeric(), strings))\n",
    "\n",
    "print(result)\n"
   ]
  },
  {
   "cell_type": "code",
   "execution_count": 20,
   "id": "8937843f-d93b-4166-afa3-4a526c0db595",
   "metadata": {},
   "outputs": [
    {
     "name": "stdout",
     "output_type": "stream",
     "text": [
      "[('orange', 80), ('mango', 99), ('grapes', 1000)]\n"
     ]
    }
   ],
   "source": [
    "# 3.Sort a list of tuples having fruit names and their quantity:\n",
    "#   Using lambda function and sort method:\n",
    "fruits = [(\"mango\",99),(\"orange\",80), (\"grapes\", 1000)]\n",
    "\n",
    "sorted_fruits = sorted(fruits, key=lambda x: x[1])\n",
    "\n",
    "print(sorted_fruits)\n"
   ]
  },
  {
   "cell_type": "code",
   "execution_count": 21,
   "id": "e606beeb-fffb-499b-a0d5-d4236e13bddc",
   "metadata": {},
   "outputs": [
    {
     "name": "stdout",
     "output_type": "stream",
     "text": [
      "[1, 4, 9, 16, 25, 36, 49, 64, 81, 100]\n"
     ]
    }
   ],
   "source": [
    "# 4.Find the squares of numbers from 1 to 10:\n",
    "#   Using lambda function and map method:\n",
    "nums = range(1, 11)\n",
    "\n",
    "squares = list(map(lambda x: x**2, nums))\n",
    "\n",
    "print(squares)\n"
   ]
  },
  {
   "cell_type": "code",
   "execution_count": 22,
   "id": "bf71a817-cd1c-4520-a5bf-04e552db8da7",
   "metadata": {},
   "outputs": [
    {
     "name": "stdout",
     "output_type": "stream",
     "text": [
      "[1.0, 1.2599210498948732, 1.4422495703074083, 1.5874010519681994, 1.7099759466766968, 1.8171205928321397, 1.912931182772389, 2.0, 2.080083823051904, 2.154434690031884]\n"
     ]
    }
   ],
   "source": [
    "# 5.Find the cube root of numbers from 1 to 10:\n",
    "#   Using lambda function and map method:\n",
    "nums = range(1, 11)\n",
    "\n",
    "cube_roots = list(map(lambda x: x**(1/3), nums))\n",
    "\n",
    "print(cube_roots)\n"
   ]
  },
  {
   "cell_type": "code",
   "execution_count": 27,
   "id": "fd1ec294-a20e-474b-8cd8-0a8d58bbaddb",
   "metadata": {},
   "outputs": [
    {
     "name": "stdin",
     "output_type": "stream",
     "text": [
      "Enter a number:  6\n"
     ]
    },
    {
     "name": "stdout",
     "output_type": "stream",
     "text": [
      "True\n"
     ]
    }
   ],
   "source": [
    "# 6.Check if a given number is even:\n",
    "#   Using lambda function and modulo operator:\n",
    "number = int(input(\"Enter a number: \"))\n",
    "\n",
    "is_even = lambda x: x % 2 == 0\n",
    "\n",
    "print(is_even(number))\n"
   ]
  },
  {
   "cell_type": "code",
   "execution_count": 24,
   "id": "675287c9-4cfa-48a5-8a8a-b761c6a664d8",
   "metadata": {},
   "outputs": [
    {
     "name": "stdout",
     "output_type": "stream",
     "text": [
      "[1, 3, 5, 7, 9]\n"
     ]
    }
   ],
   "source": [
    "# 7.Filter odd numbers from the given list:\n",
    "#   Using lambda function and filter method:\n",
    "nums = [1,2,3,4,5,6,7,8,9,10]\n",
    "\n",
    "odd_nums = list(filter(lambda x: x % 2 != 0, nums))\n",
    "\n",
    "print(odd_nums)\n"
   ]
  },
  {
   "cell_type": "code",
   "execution_count": 25,
   "id": "06a82065-cab4-45d2-b5f6-8002244f452f",
   "metadata": {},
   "outputs": [
    {
     "name": "stdout",
     "output_type": "stream",
     "text": [
      "[1, 2, 3, 4, 5, 6]\n",
      "[-1, -2, -3, -4, -5]\n"
     ]
    }
   ],
   "source": [
    "# 8.Sort a list of integers into positive and negative integers lists:\n",
    "#   Using list comprehension:\n",
    "nums = [1,2,3,4,5,6,-1,-2,-3,-4,-5,0]\n",
    "\n",
    "positive_nums = [num for num in nums if num > 0]\n",
    "negative_nums = [num for num in nums if num < 0]\n",
    "\n",
    "print(positive_nums)\n",
    "print(negative_nums)\n"
   ]
  },
  {
   "cell_type": "code",
   "execution_count": null,
   "id": "07678728-5b0c-4eb3-be76-dfbe9e62d866",
   "metadata": {},
   "outputs": [],
   "source": []
  }
 ],
 "metadata": {
  "kernelspec": {
   "display_name": "Python 3 (ipykernel)",
   "language": "python",
   "name": "python3"
  },
  "language_info": {
   "codemirror_mode": {
    "name": "ipython",
    "version": 3
   },
   "file_extension": ".py",
   "mimetype": "text/x-python",
   "name": "python",
   "nbconvert_exporter": "python",
   "pygments_lexer": "ipython3",
   "version": "3.10.8"
  }
 },
 "nbformat": 4,
 "nbformat_minor": 5
}
